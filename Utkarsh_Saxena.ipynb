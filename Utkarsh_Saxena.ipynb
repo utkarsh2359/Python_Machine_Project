{
  "nbformat": 4,
  "nbformat_minor": 0,
  "metadata": {
    "colab": {
      "name": "Utkarsh Saxena.ipynb",
      "provenance": []
    },
    "kernelspec": {
      "name": "python3",
      "display_name": "Python 3"
    },
    "language_info": {
      "name": "python"
    }
  },
  "cells": [
    {
      "cell_type": "code",
      "metadata": {
        "colab": {
          "base_uri": "https://localhost:8080/"
        },
        "id": "KM8SZRnTCWpI",
        "outputId": "5fc5b25c-7385-46f1-854c-fc47f6332c7c"
      },
      "source": [
        "import numpy as np\n",
        "import pandas as pd\n",
        "import sklearn\n",
        "\n",
        "from sklearn.datasets import load_boston\n",
        "df = load_boston()\n",
        "boston=pd.DataFrame(df.data , columns=df.feature_names)\n",
        "boston['Point']=df.target\n",
        "from sklearn.model_selection import train_test_split\n",
        "X = boston.drop('Point',axis=1)\n",
        "Y = boston['Point']\n",
        "X_train, X_test, Y_train, Y_test = train_test_split(X,Y,test_size=0.15, random_state=5)\n",
        "print(X_train.shape)\n",
        "print(X_test.shape)\n",
        "print(Y_train.shape)\n",
        "print(Y_test.shape)\n",
        "from sklearn.linear_model import LinearRegression\n",
        "from sklearn.metrics import mean_squared_error\n",
        "lin_model = LinearRegression()\n",
        "lin_model.fit(X_train,Y_train)\n",
        "y_train_predict = lin_model.predict(X_train)\n",
        "rmse = (np.sqrt(mean_squared_error(Y_train, y_train_predict)))\n",
        "print(\"The model performance for training set\")\n",
        "print('RMSE is {}'.format(rmse))\n",
        "print(\"\\n\") \n",
        "y_test_predict = lin_model.predict(X_test)\n",
        "rmse=(np.sqrt(mean_squared_error(Y_train, y_train_predict)))\n",
        "print(\"The model performance for testing set\")\n",
        "print('RMSE is {}'.format(rmse))"
      ],
      "execution_count": 4,
      "outputs": [
        {
          "output_type": "stream",
          "text": [
            "(430, 13)\n",
            "(76, 13)\n",
            "(430,)\n",
            "(76,)\n",
            "The model performance for training set\n",
            "RMSE is 4.710901797319796\n",
            "\n",
            "\n",
            "The model performance for testing set\n",
            "RMSE is 4.710901797319796\n"
          ],
          "name": "stdout"
        }
      ]
    }
  ]
}